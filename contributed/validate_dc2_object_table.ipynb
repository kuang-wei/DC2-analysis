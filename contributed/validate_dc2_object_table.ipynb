{
 "cells": [
  {
   "cell_type": "markdown",
   "metadata": {},
   "source": [
    "# Inspection of DC2 Object Table \n",
    "### Michael Wood-Vasey (@wmwv)\n",
    "\n",
    "1. Make density plots (e.g., `hexbin`, `hist2d`, `datashader`) of\n",
    "    - ra, dec\n",
    "    - u-g, g-r\n",
    "    - r-i, g-r\n",
    "    - i-z, g-r\n",
    "    - z-y, g-r\n",
    "2. Make 1D density plots (e.g., `hist`, kernel-density-estimation)\n",
    "    - N({ugrizy})\n",
    "    - Shape parameters\n",
    "\n",
    "Verification:  \n",
    "Compare GCR access and DPDD Parquet file."
   ]
  },
  {
   "cell_type": "code",
   "execution_count": null,
   "metadata": {},
   "outputs": [],
   "source": [
    "# Insert development version of gcr-catalogs/issues/254\n",
    "import sys\n",
    "sys.path.insert(0, '/global/homes/w/wmwv/local/lsst/gcr-catalogs')"
   ]
  },
  {
   "cell_type": "code",
   "execution_count": null,
   "metadata": {},
   "outputs": [],
   "source": [
    "import os\n",
    "\n",
    "import numpy as np\n",
    "import pandas as pd\n",
    "\n",
    "import GCRCatalogs"
   ]
  },
  {
   "cell_type": "code",
   "execution_count": null,
   "metadata": {},
   "outputs": [],
   "source": [
    "%matplotlib inline\n",
    "\n",
    "import matplotlib.pyplot as plt\n",
    "from matplotlib.patches import Polygon"
   ]
  },
  {
   "cell_type": "code",
   "execution_count": null,
   "metadata": {},
   "outputs": [],
   "source": [
    "# cmap = 'Oranges'\n",
    "cmap = 'viridis_r'"
   ]
  },
  {
   "cell_type": "markdown",
   "metadata": {},
   "source": [
    "## Load Data"
   ]
  },
  {
   "cell_type": "code",
   "execution_count": null,
   "metadata": {},
   "outputs": [],
   "source": [
    "catalog_name = 'dc2_object_run1.2p'"
   ]
  },
  {
   "cell_type": "code",
   "execution_count": null,
   "metadata": {},
   "outputs": [],
   "source": [
    "cat = GCRCatalogs.load_catalog(catalog_name)"
   ]
  },
  {
   "cell_type": "code",
   "execution_count": null,
   "metadata": {},
   "outputs": [],
   "source": [
    "# The cat object knows about its base directory\n",
    "# We'll look there for the Parquet file\n",
    "dpdd_parquet_file = 'dpdd_{}.parquet'.format(catalog_name)\n",
    "dpdd_parquet_file = os.path.join(cat.base_dir, dpdd_parquet_file)"
   ]
  },
  {
   "cell_type": "code",
   "execution_count": null,
   "metadata": {},
   "outputs": [],
   "source": [
    "df = pd.read_parquet(dpdd_parquet_file)"
   ]
  },
  {
   "cell_type": "markdown",
   "metadata": {},
   "source": [
    "## Object Density in RA, Dec"
   ]
  },
  {
   "cell_type": "markdown",
   "metadata": {},
   "source": [
    "DC2 Run 1.x Main region\n",
    "https://docs.google.com/document/d/1aQOPL9smeDlhtlwDrp39Zuu2q8DKivDaHLQX3_omwOI/view\n",
    "\n",
    "| Location        | RA (degrees) | Dec (degrees) |\n",
    "|:--------------- |:------------ |:------------- |\n",
    "Center            | 55.064       | -29.783\n",
    "North-East Corner | 57.87        | -27.25\n",
    "North-West Corner | 52.25        | -27.25\n",
    "South-West Corner | 52.11        | -32.25\n",
    "South-East Corner | 58.02        | -32.25"
   ]
  },
  {
   "cell_type": "code",
   "execution_count": null,
   "metadata": {},
   "outputs": [],
   "source": [
    "dc2_run1x_region = [[57.87, -27.25], [52.25, -27.25], [52.11, -32.25], [58.02, -32.25]]"
   ]
  },
  {
   "cell_type": "code",
   "execution_count": null,
   "metadata": {},
   "outputs": [],
   "source": [
    "region = Polygon(dc2_run1x_region)"
   ]
  },
  {
   "cell_type": "code",
   "execution_count": null,
   "metadata": {},
   "outputs": [],
   "source": [
    "fig = plt.figure(figsize=(8, 8))\n",
    "ax = plt.gca()\n",
    "ax.set_aspect(1)\n",
    "\n",
    "plt.hist2d(df['ra'], df['dec'], bins=100)\n",
    "plt.xlim(plt.xlim()[::-1])  # Flip to East left\n",
    "plt.xlabel('RA [deg]')\n",
    "plt.ylabel('Dec [deg]')\n",
    "plt.colorbar(shrink=0.5, label='objects / bin')\n",
    "\n",
    "region = Polygon(dc2_run1x_region, color='red', fill=False)\n",
    "ax.add_patch(region);\n",
    "\n",
    "plt.savefig('%s_ra_dec.png' % catalog_name)"
   ]
  },
  {
   "cell_type": "code",
   "execution_count": null,
   "metadata": {},
   "outputs": [],
   "source": [
    "# Select good detections:\n",
    "#  1. Marked as 'good' in catalog flags.\n",
    "#  2. SNR in given band > threshold\n",
    "#  3. In defined simulation range\n",
    "snr_threshold = 3\n",
    "snr_filter = 'i'\n",
    "snr = df['psFlux_%s' % snr_filter] / df['psFluxErr_%s' % snr_filter]"
   ]
  },
  {
   "cell_type": "code",
   "execution_count": null,
   "metadata": {},
   "outputs": [],
   "source": [
    "def inside_trapezoid(corners, ra, dec):\n",
    "    # This is a slightly tedious way of defining a symmetric trapezoid\n",
    "    # Could consider using geopandas, but that adds dependency\n",
    "    dec_size = corners[1][1] - corners[2][1] # deg\n",
    "\n",
    "    ra_left_side_delta = corners[1][0] - corners[2][0]\n",
    "    ra_right_side_delta = corners[0][0] - corners[3][0]\n",
    "    ra_left_side_slope = ra_left_side_delta / dec_size\n",
    "    ra_right_side_slope = ra_right_side_delta / dec_size\n",
    "\n",
    "    inside_ra = (corners[2][0] + ra_left_side_slope * (df['dec'] - corners[2][1]) < df['ra']) & \\\n",
    "                (df['ra'] < corners[3][0] + ra_right_side_slope * (df['dec'] - corners[3][1]))\n",
    "    inside_dec = (corners[2][1] < df['dec']) & (df['dec'] < corners[1][1])\n",
    "    return inside_ra & inside_dec"
   ]
  },
  {
   "cell_type": "code",
   "execution_count": null,
   "metadata": {},
   "outputs": [],
   "source": [
    "inside = inside_trapezoid(dc2_run1x_region, df['ra'], df['dec'])\n",
    "good = df[(df['good']) & (snr > snr_threshold) & inside]"
   ]
  },
  {
   "cell_type": "code",
   "execution_count": null,
   "metadata": {},
   "outputs": [],
   "source": [
    "stars = good[good['extendedness'] == 0]\n",
    "galaxies = good[good['extendedness'] > 0]"
   ]
  },
  {
   "cell_type": "code",
   "execution_count": null,
   "metadata": {},
   "outputs": [],
   "source": [
    "print(len(df), len(good), len(stars), len(galaxies))"
   ]
  },
  {
   "cell_type": "code",
   "execution_count": null,
   "metadata": {},
   "outputs": [],
   "source": [
    "fig = plt.figure(figsize=(8, 8))\n",
    "ax = plt.gca()\n",
    "ax.set_aspect(1)\n",
    "\n",
    "plt.hist2d(good['ra'], good['dec'], bins=100)\n",
    "plt.xlim(plt.xlim()[::-1])  # Flip to East left\n",
    "plt.xlabel('RA [deg]')\n",
    "plt.ylabel('Dec [deg]')\n",
    "plt.colorbar(shrink=0.5, label='objects / bin')\n",
    "\n",
    "region = Polygon(dc2_run1x_region, color='red', fill=False)\n",
    "ax.add_patch(region);\n",
    "\n",
    "plt.savefig('%s_good_inside_ra_dec.png' % catalog_name)"
   ]
  },
  {
   "cell_type": "markdown",
   "metadata": {},
   "source": [
    "## Color-Color Diagrams and the Stellar Locus"
   ]
  },
  {
   "cell_type": "code",
   "execution_count": null,
   "metadata": {},
   "outputs": [],
   "source": [
    "def get_stellar_locus_davenport(color1='gmr', color2='rmi',\n",
    "                                datafile='assets/Davenport_2014_MNRAS_440_3430_table1.txt'):\n",
    "    data = pd.read_table(datafile, sep='\\s+', header=1)\n",
    "    return data[color1], data[color2]\n",
    "    \n",
    "    \n",
    "def plot_stellar_locus(color1='gmr', color2='rmi',\n",
    "                       color='red', linestyle='--', linewidth=2.5,\n",
    "                       ax=None):\n",
    "    model_gmr, model_rmi = get_stellar_locus_davenport(color1, color2)\n",
    "    plot_kwargs = {'linestyle': linestyle, 'linewidth': linewidth, 'color': color,\n",
    "                   'scalex': False, 'scaley': False}\n",
    "    if not ax:\n",
    "        ax = fig.gca()\n",
    "\n",
    "    ax.plot(model_gmr, model_rmi, **plot_kwargs)"
   ]
  },
  {
   "cell_type": "code",
   "execution_count": null,
   "metadata": {},
   "outputs": [],
   "source": [
    "def plot_color_color(z, color1, color2, \n",
    "                     range1=(-1, +2), range2=(-1, +2), bins=31,\n",
    "                     ax=None, figsize=(4,4)):\n",
    "    \"\"\"Plot a color-color diagram.  Overlay stellar locus\"\"\"\n",
    "    band1, band2 = color1[0], color1[-1]\n",
    "    band3, band4 = color2[0], color2[-1]\n",
    "    H, xedges, yedges = np.histogram2d(\n",
    "        z['mag_%s' % band1] - z['mag_%s' % band2],\n",
    "        z['mag_%s' % band3] - z['mag_%s' % band4],\n",
    "        range=(range1, range2), bins=bins)\n",
    "        \n",
    "    zi = H.T\n",
    "    xi = (xedges[1:] + xedges[:-1])/2\n",
    "    yi = (yedges[1:] + yedges[:-1])/2\n",
    "\n",
    "    if not ax:\n",
    "        fig = plt.figure(figsize=figsize)\n",
    "        ax = fig.gca()\n",
    "\n",
    "    ax.pcolormesh(xi, yi, zi, cmap=cmap)\n",
    "    ax.contour(xi, yi, zi)\n",
    "    ax.set_xlabel('%s-%s' % (band1, band2))\n",
    "    ax.set_ylabel('%s-%s' % (band3, band4))\n",
    "\n",
    "    try:\n",
    "        plot_stellar_locus(color1, color2, ax=ax)\n",
    "    except KeyError as e:\n",
    "        print(\"Couldn't plot Stellar Locus model for %s, %s\" % (color1, color2))"
   ]
  },
  {
   "cell_type": "code",
   "execution_count": null,
   "metadata": {},
   "outputs": [],
   "source": [
    "def plot_four_color_color(cat):\n",
    "    fig, axes = plt.subplots(2, 2, figsize=(8, 6))\n",
    "\n",
    "    colors = ['umg', 'rmi', 'imz', 'zmy']\n",
    "    ref_color = 'gmr'\n",
    "    for ax, color in zip(axes.flat, colors):\n",
    "        plot_color_color(cat, ref_color, color, ax=ax)"
   ]
  },
  {
   "cell_type": "code",
   "execution_count": null,
   "metadata": {},
   "outputs": [],
   "source": [
    "plot_four_color_color(good)\n",
    "plt.savefig('%s_color_color.png' % catalog_name)"
   ]
  },
  {
   "cell_type": "code",
   "execution_count": null,
   "metadata": {},
   "outputs": [],
   "source": [
    "plot_four_color_color(stars)\n",
    "plt.savefig('%s_stars_color_color.png' % catalog_name)"
   ]
  },
  {
   "cell_type": "code",
   "execution_count": null,
   "metadata": {},
   "outputs": [],
   "source": [
    "plot_four_color_color(galaxies)\n",
    "plt.savefig('%s_galaxies_color_color.png' % catalog_name)"
   ]
  },
  {
   "cell_type": "markdown",
   "metadata": {},
   "source": [
    "## 1D Density Plots"
   ]
  },
  {
   "cell_type": "code",
   "execution_count": null,
   "metadata": {},
   "outputs": [],
   "source": [
    "filt = 'i'\n",
    "mag = 'mag_%s' % filt\n",
    "plt.hist([good[mag], stars[mag], galaxies[mag]],\n",
    "         label=['all', 'star', 'galaxy'],\n",
    "         range=(16, 30),\n",
    "         bins=np.linspace(16, 30, 100),\n",
    "         histtype='step')\n",
    "plt.xlabel(filt)\n",
    "plt.ylabel('objects / bin')\n",
    "plt.legend()"
   ]
  },
  {
   "cell_type": "code",
   "execution_count": null,
   "metadata": {},
   "outputs": [],
   "source": [
    "lsst_filters = ['u', 'g', 'r', 'i', 'z', 'y']\n",
    "mag_columns = ['mag_%s' % filt for filt in lsst_filters]\n",
    "plt.hist(good[mag_columns], label=lsst_filters,\n",
    "         range=(16, 30),\n",
    "         bins=np.linspace(16, 30, 100),\n",
    "         histtype='step')\n",
    "plt.xlabel(filt)\n",
    "plt.ylabel('objects / bin')\n",
    "plt.legend()"
   ]
  },
  {
   "cell_type": "code",
   "execution_count": null,
   "metadata": {},
   "outputs": [],
   "source": []
  }
 ],
 "metadata": {
  "kernelspec": {
   "display_name": "desc-python",
   "language": "python",
   "name": "desc-python"
  },
  "language_info": {
   "codemirror_mode": {
    "name": "ipython",
    "version": 3
   },
   "file_extension": ".py",
   "mimetype": "text/x-python",
   "name": "python",
   "nbconvert_exporter": "python",
   "pygments_lexer": "ipython3",
   "version": "3.6.6"
  }
 },
 "nbformat": 4,
 "nbformat_minor": 2
}
